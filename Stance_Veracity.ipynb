{
  "nbformat": 4,
  "nbformat_minor": 0,
  "metadata": {
    "colab": {
      "name": "Stance_Veracity.ipynb",
      "provenance": [],
      "collapsed_sections": [],
      "toc_visible": true,
      "include_colab_link": true
    },
    "kernelspec": {
      "name": "python3",
      "display_name": "Python 3"
    },
    "accelerator": "GPU"
  },
  "cells": [
    {
      "cell_type": "markdown",
      "metadata": {
        "id": "view-in-github",
        "colab_type": "text"
      },
      "source": [
        "<a href=\"https://colab.research.google.com/github/KanthiKiranS/KK-Repo/blob/master/Stance_Veracity.ipynb\" target=\"_parent\"><img src=\"https://colab.research.google.com/assets/colab-badge.svg\" alt=\"Open In Colab\"/></a>"
      ]
    },
    {
      "cell_type": "code",
      "metadata": {
        "id": "85WQO6mU46jx",
        "colab_type": "code",
        "colab": {}
      },
      "source": [
        "import pandas as pd\n",
        "import fastai"
      ],
      "execution_count": 0,
      "outputs": []
    },
    {
      "cell_type": "code",
      "metadata": {
        "id": "tr45_udB-F8d",
        "colab_type": "code",
        "colab": {}
      },
      "source": [
        "from fastai.text import * "
      ],
      "execution_count": 0,
      "outputs": []
    },
    {
      "cell_type": "code",
      "metadata": {
        "id": "OIpFUrPc-ZZj",
        "colab_type": "code",
        "colab": {}
      },
      "source": [
        "def read_stance(path_to_file, shuffle=False):\n",
        "    def enc(col):\n",
        "        if col['label'] == 3.0:\n",
        "            return 'Query'\n",
        "        elif col['label'] == 2.0:\n",
        "            return 'Deny'\n",
        "        elif col['label'] == 1.0:\n",
        "            return 'Support'\n",
        "        elif col['label'] == 0.0:\n",
        "            return 'Comment'\n",
        "\n",
        "    df = pd.read_csv(path_to_file)\n",
        "    df = df.drop(['Unnamed: 0', '0'], 1)\n",
        "    df.columns = ['text', 'label']\n",
        "    df['label'] = df.apply(enc, 1)\n",
        "    if shuffle:\n",
        "        df = df.sample(frac=1).reset_index(drop=True)\n",
        "\n",
        "    return df.dropna().iloc[:, ::-1]"
      ],
      "execution_count": 0,
      "outputs": []
    },
    {
      "cell_type": "code",
      "metadata": {
        "id": "0LIvC_oHRteN",
        "colab_type": "code",
        "colab": {}
      },
      "source": [
        "def read_veracity(path_to_file, shuffle=False):\n",
        "    def enc(col):\n",
        "        if col['label'] == 2.0:\n",
        "            return 'Unverified'\n",
        "        elif col['label'] == 1.0:\n",
        "            return 'True'\n",
        "        elif col['label'] == 0.0:\n",
        "            return 'False'\n",
        "\n",
        "    df = pd.read_csv(path_to_file)\n",
        "    df = df.drop(['Unnamed: 0', '0'], 1)\n",
        "    df.columns = ['text', 'label']\n",
        "    df['label'] = df.apply(enc, 1)\n",
        "    if shuffle:\n",
        "        df = df.sample(frac=1).reset_index(drop=True)\n",
        "\n",
        "    return df.dropna().iloc[:, ::-1]"
      ],
      "execution_count": 0,
      "outputs": []
    },
    {
      "cell_type": "code",
      "metadata": {
        "id": "sJ3QXU4BSpgh",
        "colab_type": "code",
        "colab": {}
      },
      "source": [
        "# For stance\n",
        "train = read_stance('train_stance.csv', True)\n",
        "test = read_stance('test_stance.csv')"
      ],
      "execution_count": 0,
      "outputs": []
    },
    {
      "cell_type": "code",
      "metadata": {
        "id": "7cLILbmvGrJV",
        "colab_type": "code",
        "colab": {}
      },
      "source": [
        "train.to_csv('train.csv')\n",
        "test.to_csv('test.csv')"
      ],
      "execution_count": 0,
      "outputs": []
    },
    {
      "cell_type": "code",
      "metadata": {
        "id": "CKaS7KyQ-cka",
        "colab_type": "code",
        "outputId": "2143f226-96c1-4db7-e75a-259a7f94ea6f",
        "colab": {
          "base_uri": "https://localhost:8080/",
          "height": 71
        }
      },
      "source": [
        "pd.concat([train['text'], test['text']]).reset_index(drop=True).to_csv('text.csv')"
      ],
      "execution_count": 7,
      "outputs": [
        {
          "output_type": "stream",
          "text": [
            "/usr/local/lib/python3.6/dist-packages/ipykernel_launcher.py:1: FutureWarning: The signature of `Series.to_csv` was aligned to that of `DataFrame.to_csv`, and argument 'header' will change its default value from False to True: please pass an explicit value to suppress this warning.\n",
            "  \"\"\"Entry point for launching an IPython kernel.\n"
          ],
          "name": "stderr"
        }
      ]
    },
    {
      "cell_type": "code",
      "metadata": {
        "id": "3pH4O1RTBOUx",
        "colab_type": "code",
        "outputId": "eff0750b-00ce-4723-d87f-a3a1edaf0b9f",
        "colab": {
          "base_uri": "https://localhost:8080/",
          "height": 17
        }
      },
      "source": [
        "data_lm = TextLMDataBunch.from_csv('', 'text.csv')\n",
        "data_clas = TextClasDataBunch.from_csv('', 'train.csv', vocab=data_lm.train_ds.vocab, text_cols='text', label_cols='label', bs=32)"
      ],
      "execution_count": 8,
      "outputs": [
        {
          "output_type": "display_data",
          "data": {
            "text/html": [
              ""
            ],
            "text/plain": [
              "<IPython.core.display.HTML object>"
            ]
          },
          "metadata": {
            "tags": []
          }
        },
        {
          "output_type": "display_data",
          "data": {
            "text/html": [
              ""
            ],
            "text/plain": [
              "<IPython.core.display.HTML object>"
            ]
          },
          "metadata": {
            "tags": []
          }
        },
        {
          "output_type": "display_data",
          "data": {
            "text/html": [
              ""
            ],
            "text/plain": [
              "<IPython.core.display.HTML object>"
            ]
          },
          "metadata": {
            "tags": []
          }
        },
        {
          "output_type": "display_data",
          "data": {
            "text/html": [
              ""
            ],
            "text/plain": [
              "<IPython.core.display.HTML object>"
            ]
          },
          "metadata": {
            "tags": []
          }
        }
      ]
    },
    {
      "cell_type": "code",
      "metadata": {
        "id": "7RdFOrcCB2Qk",
        "colab_type": "code",
        "colab": {}
      },
      "source": [
        "data_lm.save('data_lm_export.pkl')\n",
        "data_clas.save('data_clas_export.pkl')"
      ],
      "execution_count": 0,
      "outputs": []
    },
    {
      "cell_type": "code",
      "metadata": {
        "id": "RbyHvam2B5ma",
        "colab_type": "code",
        "colab": {}
      },
      "source": [
        "data_lm = load_data('', 'data_lm_export.pkl')\n",
        "data_clas = load_data('', 'data_clas_export.pkl', bs=16)"
      ],
      "execution_count": 0,
      "outputs": []
    },
    {
      "cell_type": "code",
      "metadata": {
        "id": "aLRwEnEkB9XE",
        "colab_type": "code",
        "outputId": "e875fc12-414c-44f3-ac21-4715d161e4d5",
        "colab": {
          "base_uri": "https://localhost:8080/",
          "height": 80
        }
      },
      "source": [
        "learn = language_model_learner(data_lm, AWD_LSTM, drop_mult=0.5)\n",
        "learn.fit_one_cycle(1, 1e-2, moms=(0.8, 0.7))"
      ],
      "execution_count": 11,
      "outputs": [
        {
          "output_type": "display_data",
          "data": {
            "text/html": [
              "<table border=\"1\" class=\"dataframe\">\n",
              "  <thead>\n",
              "    <tr style=\"text-align: left;\">\n",
              "      <th>epoch</th>\n",
              "      <th>train_loss</th>\n",
              "      <th>valid_loss</th>\n",
              "      <th>accuracy</th>\n",
              "      <th>time</th>\n",
              "    </tr>\n",
              "  </thead>\n",
              "  <tbody>\n",
              "    <tr>\n",
              "      <td>0</td>\n",
              "      <td>5.622311</td>\n",
              "      <td>4.717131</td>\n",
              "      <td>0.226027</td>\n",
              "      <td>00:04</td>\n",
              "    </tr>\n",
              "  </tbody>\n",
              "</table>"
            ],
            "text/plain": [
              "<IPython.core.display.HTML object>"
            ]
          },
          "metadata": {
            "tags": []
          }
        }
      ]
    },
    {
      "cell_type": "code",
      "metadata": {
        "id": "jIOt6RWbCDOY",
        "colab_type": "code",
        "outputId": "19631bfa-436b-4a65-93c4-ce910f7f05a8",
        "colab": {
          "base_uri": "https://localhost:8080/",
          "height": 80
        }
      },
      "source": [
        "learn.unfreeze()\n",
        "learn.fit_one_cycle(1, 1e-3, moms=(0.8, 0.7))"
      ],
      "execution_count": 12,
      "outputs": [
        {
          "output_type": "display_data",
          "data": {
            "text/html": [
              "<table border=\"1\" class=\"dataframe\">\n",
              "  <thead>\n",
              "    <tr style=\"text-align: left;\">\n",
              "      <th>epoch</th>\n",
              "      <th>train_loss</th>\n",
              "      <th>valid_loss</th>\n",
              "      <th>accuracy</th>\n",
              "      <th>time</th>\n",
              "    </tr>\n",
              "  </thead>\n",
              "  <tbody>\n",
              "    <tr>\n",
              "      <td>0</td>\n",
              "      <td>4.476518</td>\n",
              "      <td>4.045491</td>\n",
              "      <td>0.293214</td>\n",
              "      <td>00:04</td>\n",
              "    </tr>\n",
              "  </tbody>\n",
              "</table>"
            ],
            "text/plain": [
              "<IPython.core.display.HTML object>"
            ]
          },
          "metadata": {
            "tags": []
          }
        }
      ]
    },
    {
      "cell_type": "code",
      "metadata": {
        "id": "WoAW3DH_CKlh",
        "colab_type": "code",
        "outputId": "09f99900-43ce-4a97-a7c0-c95c876a0d6c",
        "colab": {
          "base_uri": "https://localhost:8080/",
          "height": 34
        }
      },
      "source": [
        "learn.predict(\"This is a review about\", n_words=10)"
      ],
      "execution_count": 13,
      "outputs": [
        {
          "output_type": "execute_result",
          "data": {
            "text/plain": [
              "'This is a review about taking un @charlescwcooke rides . And she shows them'"
            ]
          },
          "metadata": {
            "tags": []
          },
          "execution_count": 13
        }
      ]
    },
    {
      "cell_type": "code",
      "metadata": {
        "id": "mcJWXMA8CQ-B",
        "colab_type": "code",
        "colab": {}
      },
      "source": [
        "learn.save_encoder('ft_enc')"
      ],
      "execution_count": 0,
      "outputs": []
    },
    {
      "cell_type": "code",
      "metadata": {
        "id": "PM94ghu8CULj",
        "colab_type": "code",
        "outputId": "0880b693-cc3e-4681-bb08-64e6987df4bc",
        "colab": {
          "base_uri": "https://localhost:8080/",
          "height": 1000
        }
      },
      "source": [
        "learn = text_classifier_learner(data_clas, AWD_LSTM, drop_mult=0.5)\n",
        "learn.load_encoder('ft_enc')"
      ],
      "execution_count": 15,
      "outputs": [
        {
          "output_type": "execute_result",
          "data": {
            "text/plain": [
              "RNNLearner(data=TextClasDataBunch;\n",
              "\n",
              "Train: LabelList (3389 items)\n",
              "x: TextList\n",
              "xxbos @genlady9 @rt_com xxmaj right a xxunk happening in xxmaj france and you post this . xxmaj this is the reason the world hates xxmaj islam .,xxbos @philserrin i think you missed @larryelder point . xxmaj where 's the xxunk over b - on - b killings & & shooting that xxunk from xxmaj chicago on daily basis ?,xxbos @kingpin7666 @cnnvideo you missed the part where he xxunk in and takes these cigars ? xxmaj xxunk them to his friend and takes some him self . xxup xxunk,xxbos xxmaj in 2009 , # xxmaj ferguson police beat a man and charged him for bleeding on them : http : / / t.co / xxunk,xxbos @max843 @danteb4u @alasscan _ xxmaj police lied ! xxmaj chief now says xxmaj xxunk 's friend was xxup not involved in any robbery . http : / / t.co / xxunk\n",
              "y: CategoryList\n",
              "Support,Support,Comment,Comment,Support\n",
              "Path: .;\n",
              "\n",
              "Valid: LabelList (848 items)\n",
              "x: TextList\n",
              "xxbos @tom_sveb @spants @rui_xu @flavius217 xxmaj not releasing facts about that shooting is also a way to make sure they get good info from witnesses .,xxbos @jlpauk @spants @rui_xu @flavius217 they 've xxunk only released information that makes them look good , even info that might taint,xxbos @a_man_in_black @andybankertv @fox2now @tomman1 i 'm not arguing that he deserved to be shot .,xxbos xxunk @princemuseum xxup @3rdeyegirl no xxunk xxrep 5 y :(,xxbos # xxup update xxmaj three men including two brothers identified in xxmaj france newspaper attack : source http : / / t.co / xxunk # jesuischarlie # charliehebdo\n",
              "y: CategoryList\n",
              "Support,Comment,Query,Support,Deny\n",
              "Path: .;\n",
              "\n",
              "Test: None, model=SequentialRNN(\n",
              "  (0): MultiBatchEncoder(\n",
              "    (module): AWD_LSTM(\n",
              "      (encoder): Embedding(3440, 400, padding_idx=1)\n",
              "      (encoder_dp): EmbeddingDropout(\n",
              "        (emb): Embedding(3440, 400, padding_idx=1)\n",
              "      )\n",
              "      (rnns): ModuleList(\n",
              "        (0): WeightDropout(\n",
              "          (module): LSTM(400, 1152, batch_first=True)\n",
              "        )\n",
              "        (1): WeightDropout(\n",
              "          (module): LSTM(1152, 1152, batch_first=True)\n",
              "        )\n",
              "        (2): WeightDropout(\n",
              "          (module): LSTM(1152, 400, batch_first=True)\n",
              "        )\n",
              "      )\n",
              "      (input_dp): RNNDropout()\n",
              "      (hidden_dps): ModuleList(\n",
              "        (0): RNNDropout()\n",
              "        (1): RNNDropout()\n",
              "        (2): RNNDropout()\n",
              "      )\n",
              "    )\n",
              "  )\n",
              "  (1): PoolingLinearClassifier(\n",
              "    (layers): Sequential(\n",
              "      (0): BatchNorm1d(1200, eps=1e-05, momentum=0.1, affine=True, track_running_stats=True)\n",
              "      (1): Dropout(p=0.2, inplace=False)\n",
              "      (2): Linear(in_features=1200, out_features=50, bias=True)\n",
              "      (3): ReLU(inplace=True)\n",
              "      (4): BatchNorm1d(50, eps=1e-05, momentum=0.1, affine=True, track_running_stats=True)\n",
              "      (5): Dropout(p=0.1, inplace=False)\n",
              "      (6): Linear(in_features=50, out_features=4, bias=True)\n",
              "    )\n",
              "  )\n",
              "), opt_func=functools.partial(<class 'torch.optim.adam.Adam'>, betas=(0.9, 0.99)), loss_func=FlattenedLoss of CrossEntropyLoss(), metrics=[<function accuracy at 0x7febd9d8ab70>], true_wd=True, bn_wd=True, wd=0.01, train_bn=True, path=PosixPath('.'), model_dir='models', callback_fns=[functools.partial(<class 'fastai.basic_train.Recorder'>, add_time=True, silent=False)], callbacks=[RNNTrainer\n",
              "learn: RNNLearner(data=TextClasDataBunch;\n",
              "\n",
              "Train: LabelList (3389 items)\n",
              "x: TextList\n",
              "xxbos @genlady9 @rt_com xxmaj right a xxunk happening in xxmaj france and you post this . xxmaj this is the reason the world hates xxmaj islam .,xxbos @philserrin i think you missed @larryelder point . xxmaj where 's the xxunk over b - on - b killings & & shooting that xxunk from xxmaj chicago on daily basis ?,xxbos @kingpin7666 @cnnvideo you missed the part where he xxunk in and takes these cigars ? xxmaj xxunk them to his friend and takes some him self . xxup xxunk,xxbos xxmaj in 2009 , # xxmaj ferguson police beat a man and charged him for bleeding on them : http : / / t.co / xxunk,xxbos @max843 @danteb4u @alasscan _ xxmaj police lied ! xxmaj chief now says xxmaj xxunk 's friend was xxup not involved in any robbery . http : / / t.co / xxunk\n",
              "y: CategoryList\n",
              "Support,Support,Comment,Comment,Support\n",
              "Path: .;\n",
              "\n",
              "Valid: LabelList (848 items)\n",
              "x: TextList\n",
              "xxbos @tom_sveb @spants @rui_xu @flavius217 xxmaj not releasing facts about that shooting is also a way to make sure they get good info from witnesses .,xxbos @jlpauk @spants @rui_xu @flavius217 they 've xxunk only released information that makes them look good , even info that might taint,xxbos @a_man_in_black @andybankertv @fox2now @tomman1 i 'm not arguing that he deserved to be shot .,xxbos xxunk @princemuseum xxup @3rdeyegirl no xxunk xxrep 5 y :(,xxbos # xxup update xxmaj three men including two brothers identified in xxmaj france newspaper attack : source http : / / t.co / xxunk # jesuischarlie # charliehebdo\n",
              "y: CategoryList\n",
              "Support,Comment,Query,Support,Deny\n",
              "Path: .;\n",
              "\n",
              "Test: None, model=SequentialRNN(\n",
              "  (0): MultiBatchEncoder(\n",
              "    (module): AWD_LSTM(\n",
              "      (encoder): Embedding(3440, 400, padding_idx=1)\n",
              "      (encoder_dp): EmbeddingDropout(\n",
              "        (emb): Embedding(3440, 400, padding_idx=1)\n",
              "      )\n",
              "      (rnns): ModuleList(\n",
              "        (0): WeightDropout(\n",
              "          (module): LSTM(400, 1152, batch_first=True)\n",
              "        )\n",
              "        (1): WeightDropout(\n",
              "          (module): LSTM(1152, 1152, batch_first=True)\n",
              "        )\n",
              "        (2): WeightDropout(\n",
              "          (module): LSTM(1152, 400, batch_first=True)\n",
              "        )\n",
              "      )\n",
              "      (input_dp): RNNDropout()\n",
              "      (hidden_dps): ModuleList(\n",
              "        (0): RNNDropout()\n",
              "        (1): RNNDropout()\n",
              "        (2): RNNDropout()\n",
              "      )\n",
              "    )\n",
              "  )\n",
              "  (1): PoolingLinearClassifier(\n",
              "    (layers): Sequential(\n",
              "      (0): BatchNorm1d(1200, eps=1e-05, momentum=0.1, affine=True, track_running_stats=True)\n",
              "      (1): Dropout(p=0.2, inplace=False)\n",
              "      (2): Linear(in_features=1200, out_features=50, bias=True)\n",
              "      (3): ReLU(inplace=True)\n",
              "      (4): BatchNorm1d(50, eps=1e-05, momentum=0.1, affine=True, track_running_stats=True)\n",
              "      (5): Dropout(p=0.1, inplace=False)\n",
              "      (6): Linear(in_features=50, out_features=4, bias=True)\n",
              "    )\n",
              "  )\n",
              "), opt_func=functools.partial(<class 'torch.optim.adam.Adam'>, betas=(0.9, 0.99)), loss_func=FlattenedLoss of CrossEntropyLoss(), metrics=[<function accuracy at 0x7febd9d8ab70>], true_wd=True, bn_wd=True, wd=0.01, train_bn=True, path=PosixPath('.'), model_dir='models', callback_fns=[functools.partial(<class 'fastai.basic_train.Recorder'>, add_time=True, silent=False)], callbacks=[...], layer_groups=[Sequential(\n",
              "  (0): Embedding(3440, 400, padding_idx=1)\n",
              "  (1): EmbeddingDropout(\n",
              "    (emb): Embedding(3440, 400, padding_idx=1)\n",
              "  )\n",
              "), Sequential(\n",
              "  (0): WeightDropout(\n",
              "    (module): LSTM(400, 1152, batch_first=True)\n",
              "  )\n",
              "  (1): RNNDropout()\n",
              "), Sequential(\n",
              "  (0): WeightDropout(\n",
              "    (module): LSTM(1152, 1152, batch_first=True)\n",
              "  )\n",
              "  (1): RNNDropout()\n",
              "), Sequential(\n",
              "  (0): WeightDropout(\n",
              "    (module): LSTM(1152, 400, batch_first=True)\n",
              "  )\n",
              "  (1): RNNDropout()\n",
              "), Sequential(\n",
              "  (0): PoolingLinearClassifier(\n",
              "    (layers): Sequential(\n",
              "      (0): BatchNorm1d(1200, eps=1e-05, momentum=0.1, affine=True, track_running_stats=True)\n",
              "      (1): Dropout(p=0.2, inplace=False)\n",
              "      (2): Linear(in_features=1200, out_features=50, bias=True)\n",
              "      (3): ReLU(inplace=True)\n",
              "      (4): BatchNorm1d(50, eps=1e-05, momentum=0.1, affine=True, track_running_stats=True)\n",
              "      (5): Dropout(p=0.1, inplace=False)\n",
              "      (6): Linear(in_features=50, out_features=4, bias=True)\n",
              "    )\n",
              "  )\n",
              ")], add_time=True, silent=False)\n",
              "alpha: 2.0\n",
              "beta: 1.0], layer_groups=[Sequential(\n",
              "  (0): Embedding(3440, 400, padding_idx=1)\n",
              "  (1): EmbeddingDropout(\n",
              "    (emb): Embedding(3440, 400, padding_idx=1)\n",
              "  )\n",
              "), Sequential(\n",
              "  (0): WeightDropout(\n",
              "    (module): LSTM(400, 1152, batch_first=True)\n",
              "  )\n",
              "  (1): RNNDropout()\n",
              "), Sequential(\n",
              "  (0): WeightDropout(\n",
              "    (module): LSTM(1152, 1152, batch_first=True)\n",
              "  )\n",
              "  (1): RNNDropout()\n",
              "), Sequential(\n",
              "  (0): WeightDropout(\n",
              "    (module): LSTM(1152, 400, batch_first=True)\n",
              "  )\n",
              "  (1): RNNDropout()\n",
              "), Sequential(\n",
              "  (0): PoolingLinearClassifier(\n",
              "    (layers): Sequential(\n",
              "      (0): BatchNorm1d(1200, eps=1e-05, momentum=0.1, affine=True, track_running_stats=True)\n",
              "      (1): Dropout(p=0.2, inplace=False)\n",
              "      (2): Linear(in_features=1200, out_features=50, bias=True)\n",
              "      (3): ReLU(inplace=True)\n",
              "      (4): BatchNorm1d(50, eps=1e-05, momentum=0.1, affine=True, track_running_stats=True)\n",
              "      (5): Dropout(p=0.1, inplace=False)\n",
              "      (6): Linear(in_features=50, out_features=4, bias=True)\n",
              "    )\n",
              "  )\n",
              ")], add_time=True, silent=False)"
            ]
          },
          "metadata": {
            "tags": []
          },
          "execution_count": 15
        }
      ]
    },
    {
      "cell_type": "code",
      "metadata": {
        "id": "RjLqwu6WCa9E",
        "colab_type": "code",
        "outputId": "f5b3eb20-d477-41c7-fbb1-bdabbc5666d5",
        "colab": {
          "base_uri": "https://localhost:8080/",
          "height": 306
        }
      },
      "source": [
        "data_clas.show_batch()"
      ],
      "execution_count": 16,
      "outputs": [
        {
          "output_type": "display_data",
          "data": {
            "text/html": [
              "<table border=\"1\" class=\"dataframe\">\n",
              "  <thead>\n",
              "    <tr style=\"text-align: right;\">\n",
              "      <th>text</th>\n",
              "      <th>target</th>\n",
              "    </tr>\n",
              "  </thead>\n",
              "  <tbody>\n",
              "    <tr>\n",
              "      <td>xxbos .@marrty96 xxup and xxup yet xxup its xxup not xxup on / xxup in xxup the xxup tweet / xxup headline . xxup as xxup usual . &amp; &amp; xxup dont xxup fucking xxup tell xxup me xxup to xxup xxunk . \\n  xxup this xxup is xxup the xxup same xxup network xxup that xxup reported xxup xxunk</td>\n",
              "      <td>Support</td>\n",
              "    </tr>\n",
              "    <tr>\n",
              "      <td>xxbos @michaelskolnik @ac_bowen # xxmaj cleveland a xxmaj cop xxmaj shot a xxunk xxmaj old xxmaj in xxmaj the \\n  xxmaj head ! # xxmaj black # xxmaj unarmed # xxunk xxmaj cop xxmaj said xxmaj he # xxup thought xxmaj he \\n  xxmaj saw a xxmaj gun ! ! !</td>\n",
              "      <td>Support</td>\n",
              "    </tr>\n",
              "    <tr>\n",
              "      <td>xxbos “ @independent : xxmaj up to 20 held hostage in xxmaj sydney xxmaj lindt xxmaj cafe siege http : / / t.co / xxunk http : / / t.co / xxunk ” xxmaj oh . xxmaj my . xxmaj god . i am xxup sick !</td>\n",
              "      <td>Comment</td>\n",
              "    </tr>\n",
              "    <tr>\n",
              "      <td>xxbos “ xxup @davidmdraiman : .@cnni xxup its a xxup kosher xxup jewish xxup supermarket . xxup they xxup chose xxup it xxup for a xxup reason . xxup you xxup conveniently xxup left xxup that xxup out # jesuisjuif ” &lt; too true !</td>\n",
              "      <td>Support</td>\n",
              "    </tr>\n",
              "    <tr>\n",
              "      <td>xxbos @theroot xxunk @thedailybeast xxup wow ! xxup fantastic xxup article ! xxup rt &amp; &amp; xxup rt ! xxup fbi xxup needs xxup to xxup xxunk xxup this xxup one xxup also ! xxup no xxup justice , xxup no xxup peace !</td>\n",
              "      <td>Comment</td>\n",
              "    </tr>\n",
              "  </tbody>\n",
              "</table>"
            ],
            "text/plain": [
              "<IPython.core.display.HTML object>"
            ]
          },
          "metadata": {
            "tags": []
          }
        }
      ]
    },
    {
      "cell_type": "code",
      "metadata": {
        "id": "xHwGIccnCftf",
        "colab_type": "code",
        "outputId": "9e9df1d0-7425-4018-8545-e0536710709b",
        "colab": {
          "base_uri": "https://localhost:8080/",
          "height": 80
        }
      },
      "source": [
        "learn.fit_one_cycle(1, 1e-2, moms=(0.8, 0.7))"
      ],
      "execution_count": 17,
      "outputs": [
        {
          "output_type": "display_data",
          "data": {
            "text/html": [
              "<table border=\"1\" class=\"dataframe\">\n",
              "  <thead>\n",
              "    <tr style=\"text-align: left;\">\n",
              "      <th>epoch</th>\n",
              "      <th>train_loss</th>\n",
              "      <th>valid_loss</th>\n",
              "      <th>accuracy</th>\n",
              "      <th>time</th>\n",
              "    </tr>\n",
              "  </thead>\n",
              "  <tbody>\n",
              "    <tr>\n",
              "      <td>0</td>\n",
              "      <td>0.921521</td>\n",
              "      <td>0.858705</td>\n",
              "      <td>0.709906</td>\n",
              "      <td>00:14</td>\n",
              "    </tr>\n",
              "  </tbody>\n",
              "</table>"
            ],
            "text/plain": [
              "<IPython.core.display.HTML object>"
            ]
          },
          "metadata": {
            "tags": []
          }
        }
      ]
    },
    {
      "cell_type": "code",
      "metadata": {
        "id": "dwQgPHarFD7c",
        "colab_type": "code",
        "outputId": "9b90bc78-8334-46ec-bec2-dd72528c230b",
        "colab": {
          "base_uri": "https://localhost:8080/",
          "height": 80
        }
      },
      "source": [
        "learn.freeze_to(-2)\n",
        "learn.fit_one_cycle(1, slice(5e-3/2., 5e-3), moms=(0.8, 0.7))"
      ],
      "execution_count": 18,
      "outputs": [
        {
          "output_type": "display_data",
          "data": {
            "text/html": [
              "<table border=\"1\" class=\"dataframe\">\n",
              "  <thead>\n",
              "    <tr style=\"text-align: left;\">\n",
              "      <th>epoch</th>\n",
              "      <th>train_loss</th>\n",
              "      <th>valid_loss</th>\n",
              "      <th>accuracy</th>\n",
              "      <th>time</th>\n",
              "    </tr>\n",
              "  </thead>\n",
              "  <tbody>\n",
              "    <tr>\n",
              "      <td>0</td>\n",
              "      <td>0.925615</td>\n",
              "      <td>0.855451</td>\n",
              "      <td>0.702830</td>\n",
              "      <td>00:15</td>\n",
              "    </tr>\n",
              "  </tbody>\n",
              "</table>"
            ],
            "text/plain": [
              "<IPython.core.display.HTML object>"
            ]
          },
          "metadata": {
            "tags": []
          }
        }
      ]
    },
    {
      "cell_type": "code",
      "metadata": {
        "id": "7b2oE8dVFJRs",
        "colab_type": "code",
        "outputId": "79093c71-631d-478f-e06c-620f34fdde0c",
        "colab": {
          "base_uri": "https://localhost:8080/",
          "height": 359
        }
      },
      "source": [
        "learn.unfreeze()\n",
        "learn.fit_one_cycle(10, slice(2e-3/100, 2e-3), moms=(0.8, 0.7))"
      ],
      "execution_count": 19,
      "outputs": [
        {
          "output_type": "display_data",
          "data": {
            "text/html": [
              "<table border=\"1\" class=\"dataframe\">\n",
              "  <thead>\n",
              "    <tr style=\"text-align: left;\">\n",
              "      <th>epoch</th>\n",
              "      <th>train_loss</th>\n",
              "      <th>valid_loss</th>\n",
              "      <th>accuracy</th>\n",
              "      <th>time</th>\n",
              "    </tr>\n",
              "  </thead>\n",
              "  <tbody>\n",
              "    <tr>\n",
              "      <td>0</td>\n",
              "      <td>0.838637</td>\n",
              "      <td>0.832793</td>\n",
              "      <td>0.713443</td>\n",
              "      <td>00:17</td>\n",
              "    </tr>\n",
              "    <tr>\n",
              "      <td>1</td>\n",
              "      <td>0.843511</td>\n",
              "      <td>0.835950</td>\n",
              "      <td>0.719340</td>\n",
              "      <td>00:17</td>\n",
              "    </tr>\n",
              "    <tr>\n",
              "      <td>2</td>\n",
              "      <td>0.812515</td>\n",
              "      <td>0.840600</td>\n",
              "      <td>0.724057</td>\n",
              "      <td>00:16</td>\n",
              "    </tr>\n",
              "    <tr>\n",
              "      <td>3</td>\n",
              "      <td>0.742215</td>\n",
              "      <td>0.867513</td>\n",
              "      <td>0.709906</td>\n",
              "      <td>00:17</td>\n",
              "    </tr>\n",
              "    <tr>\n",
              "      <td>4</td>\n",
              "      <td>0.697888</td>\n",
              "      <td>0.890471</td>\n",
              "      <td>0.700472</td>\n",
              "      <td>00:17</td>\n",
              "    </tr>\n",
              "    <tr>\n",
              "      <td>5</td>\n",
              "      <td>0.599990</td>\n",
              "      <td>0.929269</td>\n",
              "      <td>0.709906</td>\n",
              "      <td>00:15</td>\n",
              "    </tr>\n",
              "    <tr>\n",
              "      <td>6</td>\n",
              "      <td>0.597894</td>\n",
              "      <td>0.968694</td>\n",
              "      <td>0.687500</td>\n",
              "      <td>00:17</td>\n",
              "    </tr>\n",
              "    <tr>\n",
              "      <td>7</td>\n",
              "      <td>0.459178</td>\n",
              "      <td>0.958573</td>\n",
              "      <td>0.691038</td>\n",
              "      <td>00:17</td>\n",
              "    </tr>\n",
              "    <tr>\n",
              "      <td>8</td>\n",
              "      <td>0.459018</td>\n",
              "      <td>0.961888</td>\n",
              "      <td>0.691038</td>\n",
              "      <td>00:17</td>\n",
              "    </tr>\n",
              "    <tr>\n",
              "      <td>9</td>\n",
              "      <td>0.417038</td>\n",
              "      <td>0.969293</td>\n",
              "      <td>0.695755</td>\n",
              "      <td>00:17</td>\n",
              "    </tr>\n",
              "  </tbody>\n",
              "</table>"
            ],
            "text/plain": [
              "<IPython.core.display.HTML object>"
            ]
          },
          "metadata": {
            "tags": []
          }
        }
      ]
    },
    {
      "cell_type": "code",
      "metadata": {
        "id": "4DFYiOTrFQvy",
        "colab_type": "code",
        "colab": {}
      },
      "source": [
        "l = []\n",
        "for text in test['text']:\n",
        "    l.append(str(learn.predict(text)[0]))"
      ],
      "execution_count": 0,
      "outputs": []
    },
    {
      "cell_type": "code",
      "metadata": {
        "id": "mstsNb5hIVEu",
        "colab_type": "code",
        "colab": {}
      },
      "source": [
        "from sklearn.metrics import accuracy_score, f1_score"
      ],
      "execution_count": 0,
      "outputs": []
    },
    {
      "cell_type": "code",
      "metadata": {
        "id": "FX8ZQADzI5F4",
        "colab_type": "code",
        "outputId": "ed8e4149-a69d-4325-ea69-11a57331e07d",
        "colab": {
          "base_uri": "https://localhost:8080/",
          "height": 34
        }
      },
      "source": [
        "accuracy_score(test['label'], l)"
      ],
      "execution_count": 22,
      "outputs": [
        {
          "output_type": "execute_result",
          "data": {
            "text/plain": [
              "0.7295373665480427"
            ]
          },
          "metadata": {
            "tags": []
          },
          "execution_count": 22
        }
      ]
    },
    {
      "cell_type": "code",
      "metadata": {
        "id": "SOyYNvOnR-w4",
        "colab_type": "code",
        "outputId": "b30f5969-af69-4af6-a648-8304fe8dbc49",
        "colab": {
          "base_uri": "https://localhost:8080/",
          "height": 34
        }
      },
      "source": [
        "f1_score(test['label'], l, average='macro')"
      ],
      "execution_count": 23,
      "outputs": [
        {
          "output_type": "execute_result",
          "data": {
            "text/plain": [
              "0.5710479796379834"
            ]
          },
          "metadata": {
            "tags": []
          },
          "execution_count": 23
        }
      ]
    },
    {
      "cell_type": "code",
      "metadata": {
        "id": "eFDRzZXrWjZs",
        "colab_type": "code",
        "colab": {}
      },
      "source": [
        ""
      ],
      "execution_count": 0,
      "outputs": []
    }
  ]
}